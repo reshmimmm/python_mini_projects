{
 "cells": [
  {
   "cell_type": "code",
   "execution_count": 1,
   "id": "294abbec-e75f-4c80-b39a-07a6efa37694",
   "metadata": {},
   "outputs": [
    {
     "name": "stdout",
     "output_type": "stream",
     "text": [
      "Hello World\n"
     ]
    }
   ],
   "source": [
    "print('Hello World')"
   ]
  },
  {
   "cell_type": "code",
   "execution_count": null,
   "id": "b67170dc-90f1-4523-ba5b-14ffe268cae0",
   "metadata": {},
   "outputs": [],
   "source": [
    "#imported re package to use functions of regular expression\n",
    "import re\n",
    "\n",
    "#check_password_str_func function will use the in-built functions to loop through each character of the string\n",
    "def check_password_str_func(password):\n",
    "    detail = []\n",
    "    length = len(password)\n",
    "    \n",
    "    for char in password:\n",
    "        if char.isupper():\n",
    "            detail.append(2)\n",
    "        elif char.islower():\n",
    "            detail.append(3)\n",
    "        elif char.isdigit():\n",
    "            detail.append(4)\n",
    "        else:\n",
    "            detail.append(5)\n",
    "            \n",
    "    if length > 8:\n",
    "        detail.append(1)\n",
    "    \n",
    "    if len(set(detail)) == 5:\n",
    "        strength = 'Strong'\n",
    "    else:\n",
    "        strength = 'Weak'\n",
    "    \n",
    "    return strength, detail\n",
    "\n",
    "#check_password_re_func function will use the functions imported from re package (Regular Expressions) it will check if any of the character is among the required expression\n",
    "def check_password_re_func(password):\n",
    "    detail = []\n",
    "    length = len(password)\n",
    "    spc=re.compile('[@_!#$%^&*()<>?|}{~:]')\n",
    "    \n",
    "    if re.search(r'[A-Z]',password):\n",
    "        detail.append(2)\n",
    "    if re.search(r'[a-z]',password):\n",
    "        detail.append(3)\n",
    "    if re.search(r'[0-9]',password):\n",
    "        detail.append(4)\n",
    "    if spc.search(password):\n",
    "        detail.append(5)\n",
    "\n",
    "    if length > 8:\n",
    "        detail.append(1)\n",
    "    \n",
    "    if len(set(detail)) == 5:\n",
    "        strength = 'Strong'\n",
    "    else:\n",
    "        strength = 'Weak'\n",
    "    \n",
    "    return strength, detail\n",
    "    \n",
    "def main():\n",
    "    method = input('Which method you want to use to check the password strength?\\nEnter 1 to use Regular Expression based method\\nEnter 2 to use non Regular Expression based method\\n')\n",
    "\n",
    "    while True:\n",
    "        try:\n",
    "            method = int(method)\n",
    "            break\n",
    "        except ValueError:\n",
    "            method = input('Enter your option in integer only')\n",
    "\n",
    "    if int(method) == 1:\n",
    "        print('Regular Expression Based')\n",
    "        pwd = input('Enter your password: ')\n",
    "        strength, detail_ = check_password_re_func(pwd)\n",
    "    else:\n",
    "        print('Non-Regular Expression Based')\n",
    "        pwd = input('Enter your password: ')\n",
    "        strength, detail_ = check_password_str_func(pwd)\n",
    "    \n",
    "    print(f'Your Password is {strength}')\n",
    "\n",
    "    if strength != 'Strong':\n",
    "        print(\"Your password isn't strong enough\")\n",
    "        if 1 not in detail_:\n",
    "            print('Password must be greater than 8 characters')\n",
    "        if 2 not in detail_:\n",
    "            print('Your password should include a capital letter')\n",
    "        if 3 not in detail_:\n",
    "            print('Your password should include a small letter')\n",
    "        if 4 not in detail_:\n",
    "            print('Your password should include a digit')\n",
    "        if 5 not in detail_:\n",
    "            print('Your password should include a special character')   \n",
    "    else:\n",
    "            print('That is one good password!')\n",
    "\n",
    "    if __name__ == \"__main()__\":\n",
    "        main()"
   ]
  },
  {
   "cell_type": "code",
   "execution_count": 43,
   "id": "08c18313-5309-47d4-9414-5dd4ca7b6a09",
   "metadata": {},
   "outputs": [
    {
     "name": "stdout",
     "output_type": "stream",
     "text": [
      "Which method you want to use to check the password strength?\n",
      "Enter 1 to use Regular Expression based method\n",
      "Enter 2 to use non Regular Expression based method\n",
      " 1\n"
     ]
    },
    {
     "name": "stdout",
     "output_type": "stream",
     "text": [
      "Regular Expression Based\n"
     ]
    },
    {
     "name": "stdout",
     "output_type": "stream",
     "text": [
      "Enter your password:  Hell/sfnjeh!2\n"
     ]
    },
    {
     "name": "stdout",
     "output_type": "stream",
     "text": [
      "Your Password is Strong\n",
      "That is one good password!\n"
     ]
    }
   ],
   "source": [
    "main()"
   ]
  },
  {
   "cell_type": "code",
   "execution_count": null,
   "id": "48a72819-2018-499e-aa98-cfeadc8be951",
   "metadata": {},
   "outputs": [],
   "source": []
  },
  {
   "cell_type": "code",
   "execution_count": null,
   "id": "276c693a-9347-42f7-b1ec-49fe3d906f93",
   "metadata": {},
   "outputs": [],
   "source": []
  },
  {
   "cell_type": "code",
   "execution_count": null,
   "id": "2724e137-44f5-4205-b970-498f68cf5712",
   "metadata": {},
   "outputs": [],
   "source": []
  },
  {
   "cell_type": "code",
   "execution_count": null,
   "id": "041f7b8f-8a50-4d3e-b47e-b83bea332b19",
   "metadata": {},
   "outputs": [],
   "source": []
  },
  {
   "cell_type": "code",
   "execution_count": null,
   "id": "490fecb5-2458-4417-83de-afcd9b099bba",
   "metadata": {},
   "outputs": [],
   "source": []
  },
  {
   "cell_type": "code",
   "execution_count": null,
   "id": "e35a4f2b-2d38-449f-8e4e-91993ac7fb6b",
   "metadata": {},
   "outputs": [],
   "source": []
  }
 ],
 "metadata": {
  "kernelspec": {
   "display_name": "Python 3 (ipykernel)",
   "language": "python",
   "name": "python3"
  },
  "language_info": {
   "codemirror_mode": {
    "name": "ipython",
    "version": 3
   },
   "file_extension": ".py",
   "mimetype": "text/x-python",
   "name": "python",
   "nbconvert_exporter": "python",
   "pygments_lexer": "ipython3",
   "version": "3.13.5"
  }
 },
 "nbformat": 4,
 "nbformat_minor": 5
}
